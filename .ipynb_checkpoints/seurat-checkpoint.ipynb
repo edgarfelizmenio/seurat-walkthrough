{
 "cells": [
  {
   "cell_type": "code",
   "execution_count": 1,
   "id": "3fce69ce-639a-4d54-801d-960d74ea0fb9",
   "metadata": {},
   "outputs": [],
   "source": [
    "untar(\"data/pbmc3k_filtered_gene_bc_matrices.tar.gz\", exdir=\"data\")"
   ]
  },
  {
   "cell_type": "code",
   "execution_count": 2,
   "id": "d97d70d6-1b71-4ffd-a43a-261739899695",
   "metadata": {},
   "outputs": [
    {
     "name": "stderr",
     "output_type": "stream",
     "text": [
      "\n",
      "Attaching package: ‘dplyr’\n",
      "\n",
      "\n",
      "The following objects are masked from ‘package:stats’:\n",
      "\n",
      "    filter, lag\n",
      "\n",
      "\n",
      "The following objects are masked from ‘package:base’:\n",
      "\n",
      "    intersect, setdiff, setequal, union\n",
      "\n",
      "\n",
      "The legacy packages maptools, rgdal, and rgeos, underpinning the sp package,\n",
      "which was just loaded, will retire in October 2023.\n",
      "Please refer to R-spatial evolution reports for details, especially\n",
      "https://r-spatial.org/r/2023/05/15/evolution4.html.\n",
      "It may be desirable to make the sf package available;\n",
      "package maintainers should consider adding sf to Suggests:.\n",
      "The sp package is now running under evolution status 2\n",
      "     (status 2 uses the sf package in place of rgdal)\n",
      "\n",
      "Attaching SeuratObject\n",
      "\n",
      "Warning message:\n",
      "“Feature names cannot have underscores ('_'), replacing with dashes ('-')”\n"
     ]
    },
    {
     "data": {
      "text/plain": [
       "An object of class Seurat \n",
       "13714 features across 2700 samples within 1 assay \n",
       "Active assay: RNA (13714 features, 0 variable features)"
      ]
     },
     "metadata": {},
     "output_type": "display_data"
    }
   ],
   "source": [
    "library(dplyr)\n",
    "library(Seurat)\n",
    "library(patchwork)\n",
    "library(ggplot2)\n",
    "\n",
    "# Load the PBMS dataset\n",
    "pbmc.data <- Read10X(data.dir = \"./data/filtered_gene_bc_matrices/hg19/\")\n",
    "# Initialize the Seurat object witht the raw (non-normalized data).\n",
    "pbmc <- CreateSeuratObject(counts = pbmc.data, project = \"pbmc3k\", min.cells = 3, min.features = 200)\n",
    "pbmc"
   ]
  },
  {
   "cell_type": "code",
   "execution_count": 4,
   "id": "e160a304-8f3f-46d5-a0c1-1faa033dafa2",
   "metadata": {},
   "outputs": [],
   "source": [
    "options(repr.plot.width=15, repr.plot.height=8)"
   ]
  },
  {
   "cell_type": "code",
   "execution_count": null,
   "id": "2eced090-cfd4-415a-a274-7ed5c1f8d288",
   "metadata": {},
   "outputs": [],
   "source": [
    "pbmc.data[c(\"CD3D\",\"TCL1A\",\"MS4A1\"), 1:30]"
   ]
  },
  {
   "cell_type": "code",
   "execution_count": null,
   "id": "ebc832ae-fab0-4819-b5e6-89b6c88ce974",
   "metadata": {},
   "outputs": [],
   "source": [
    "dense.size <- object.size(as.matrix(pbmc.data))\n",
    "dense.size"
   ]
  },
  {
   "cell_type": "code",
   "execution_count": null,
   "id": "060552bd-c971-40e4-99ed-b2b711062631",
   "metadata": {},
   "outputs": [],
   "source": [
    "sparse.size <- object.size(pbmc.data)\n",
    "sparse.size"
   ]
  },
  {
   "cell_type": "code",
   "execution_count": null,
   "id": "0eaa201e-289d-4c56-ad2f-41b7b11e4518",
   "metadata": {},
   "outputs": [],
   "source": [
    "dense.size/sparse.size"
   ]
  },
  {
   "cell_type": "markdown",
   "id": "0fe2929a-8518-4be4-9aea-48d1c8a9fc00",
   "metadata": {},
   "source": [
    "## Standard pre-processing workflow"
   ]
  },
  {
   "cell_type": "code",
   "execution_count": null,
   "id": "0ee336b2-1766-4bbc-9dc9-24770a6f3776",
   "metadata": {},
   "outputs": [],
   "source": [
    "# The [[ operator can add columns to object metadata. This is a great place to stash QC stats\n",
    "pbmc[[\"percent.mt\"]] <- PercentageFeatureSet(pbmc, pattern = \"^MT-\")"
   ]
  },
  {
   "cell_type": "code",
   "execution_count": null,
   "id": "261a7c5a-f27d-457e-bbe1-ad698c1f2066",
   "metadata": {},
   "outputs": [],
   "source": [
    "# Show QC metrics for the first 5 cells\n",
    "head(pbmc@meta.data, 5)"
   ]
  },
  {
   "cell_type": "code",
   "execution_count": null,
   "id": "528cce13-d928-45fb-a7a3-fc83cd4a4b2f",
   "metadata": {},
   "outputs": [],
   "source": [
    "# Visualize QC metrics as a violin plot\n",
    "VlnPlot(pbmc, features = c(\"nFeature_RNA\", \"nCount_RNA\", \"percent.mt\"), ncol = 3)"
   ]
  },
  {
   "cell_type": "code",
   "execution_count": null,
   "id": "1e4af876-d14d-455c-9fe0-6430c0cc6fce",
   "metadata": {},
   "outputs": [],
   "source": [
    "# FeatureScatter is typically used  to visualize feature-feature relationships, but can be used for anything calculated by the object, i.e. columns in object metadata, PC scores etc.\n",
    "\n",
    "plot1 <- FeatureScatter(pbmc, feature1 = \"nCount_RNA\", feature2 = \"percent.mt\")\n",
    "plot2 <- FeatureScatter(pbmc, feature1 = \"nCount_RNA\", feature2 = \"nFeature_RNA\")\n",
    "plot1 + plot2"
   ]
  },
  {
   "cell_type": "code",
   "execution_count": null,
   "id": "38243c46-a53e-4002-8360-c4e1b0949cb3",
   "metadata": {},
   "outputs": [],
   "source": [
    "pbmc <- subset(pbmc, subset = nFeature_RNA > 200 & nFeature_RNA < 2500 & percent.mt < 5)"
   ]
  },
  {
   "cell_type": "markdown",
   "id": "f0feaa28-9bd2-4e40-90d8-dff7022c87d2",
   "metadata": {},
   "source": [
    "## Normalizing the data"
   ]
  },
  {
   "cell_type": "code",
   "execution_count": null,
   "id": "91427556-3462-4ade-bc11-f5da388eb447",
   "metadata": {},
   "outputs": [],
   "source": [
    "pbmc <- NormalizeData(pbmc, normalization.method = \"LogNormalize\", scale.factor = 10000)\n",
    "# Since the parameters are default values, this can also be achieved by\n",
    "pbmc <- NormalizeData(pbmc)"
   ]
  },
  {
   "cell_type": "markdown",
   "id": "66b29f77-f01f-4630-accd-f29f2dd63c34",
   "metadata": {},
   "source": [
    "# Identification of highly variable features (feature selection)"
   ]
  },
  {
   "cell_type": "code",
   "execution_count": null,
   "id": "b7baa40e-bac9-4fc8-97c0-7ee094e27eb8",
   "metadata": {},
   "outputs": [],
   "source": [
    "pbmc <- FindVariableFeatures(pbmc, selection.method = \"vst\", nfeatures = 2000)\n",
    "\n",
    "# Identify the 10 most highly variable genes\n",
    "top10 <- head(VariableFeatures(pbmc), 10)\n",
    "\n",
    "# plot variable features with and without labels\n",
    "plot1 <- VariableFeaturePlot(pbmc)\n",
    "plot2 <- LabelPoints(plot = plot1, points = top10, repel = TRUE, xnudge = 0, ynudge = 0)\n",
    "plot1+plot2"
   ]
  }
 ],
 "metadata": {
  "kernelspec": {
   "display_name": "R",
   "language": "R",
   "name": "ir"
  },
  "language_info": {
   "codemirror_mode": "r",
   "file_extension": ".r",
   "mimetype": "text/x-r-source",
   "name": "R",
   "pygments_lexer": "r",
   "version": "4.3.1"
  }
 },
 "nbformat": 4,
 "nbformat_minor": 5
}
